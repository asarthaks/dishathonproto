{
 "cells": [
  {
   "cell_type": "code",
   "execution_count": 1,
   "metadata": {},
   "outputs": [],
   "source": [
    "import speech_recognition as sr\n",
    "#from pydub import AudioSegment     #some problem with my pydub package\n",
    "import subprocess\n",
    "import os"
   ]
  },
  {
   "cell_type": "code",
   "execution_count": 34,
   "metadata": {},
   "outputs": [],
   "source": [
    "r = sr.Recognizer()\n",
    "\n",
    "audio = 's_video.mp4'\n",
    "nmdir = 'output/'+ audio[:5]\n",
    "os.mkdir(nmdir)"
   ]
  },
  {
   "cell_type": "code",
   "execution_count": 35,
   "metadata": {},
   "outputs": [
    {
     "name": "stdout",
     "output_type": "stream",
     "text": [
      "processing...\n",
      "ffmpeg -i s_video.mp4 -ab 160k -ac 2 -ar 44100 -vn output.wav\n",
      "output.wav\n"
     ]
    }
   ],
   "source": [
    "if audio[-3:] == 'wav' :\n",
    "    print('processing...')\n",
    "elif audio[-3:] == 'mp4' :\n",
    "    command = \"ffmpeg -i \" + audio + \" -ab 160k -ac 2 -ar 44100 -vn output.wav\"\n",
    "    subprocess.call(command, shell=True)\n",
    "    audio = 'output.wav'\n",
    "    print('processing...')\n",
    "#elif audio[-3:] == 'mp3' :\n",
    "#    out = 'output.wav'\n",
    " #   AudioSegment.from_file(audio).export(out, format=\"wav\")\n",
    "  #  audio = out\n",
    "   # print('processing...')\n",
    "\n",
    "print(command)\n",
    "print(audio)"
   ]
  },
  {
   "cell_type": "code",
   "execution_count": 36,
   "metadata": {},
   "outputs": [
    {
     "name": "stdout",
     "output_type": "stream",
     "text": [
      "ffmpeg -i output.wav -f segment -segment_time 10 -c copy output/s_vid/out%03d.wav\n"
     ]
    }
   ],
   "source": [
    "r = sr.Recognizer()\n",
    "command = 'ffmpeg -i '+audio+' -f segment -segment_time 10 -c copy '+nmdir+'/out%03d.wav'\n",
    "subprocess.call(command, shell=True)\n",
    "print(command)"
   ]
  },
  {
   "cell_type": "code",
   "execution_count": 45,
   "metadata": {},
   "outputs": [],
   "source": [
    "list_out = os.listdir(nmdir+'/')\n",
    "list_out.sort()"
   ]
  },
  {
   "cell_type": "code",
   "execution_count": null,
   "metadata": {},
   "outputs": [],
   "source": [
    "count = 0\n",
    "badWords = ['should','some','Maiden']       #inappropriate words\n",
    "\n",
    "for i in list_out :\n",
    "    with sr.AudioFile(nmdir+'/'+i) as source:\n",
    "        audio = r.record(source)\n",
    "        print ('Done!')\n",
    "\n",
    "    try:\n",
    "        text = r.recognize_google(audio)\n",
    "        print (text)\n",
    "        data = text.split() #split string into a list\n",
    "\n",
    "        for temp1 in data:\n",
    "            for temp2 in badWords :\n",
    "                if temp1 == temp2 :\n",
    "                    print(temp1 + ' is an inappropriate word')\n",
    "                    count+=1\n",
    "    \n",
    "    except Exception as e:\n",
    "        print (e)"
   ]
  },
  {
   "cell_type": "code",
   "execution_count": 33,
   "metadata": {},
   "outputs": [
    {
     "data": {
      "text/plain": [
       "0"
      ]
     },
     "execution_count": 33,
     "metadata": {},
     "output_type": "execute_result"
    }
   ],
   "source": [
    "count"
   ]
  },
  {
   "cell_type": "code",
   "execution_count": null,
   "metadata": {},
   "outputs": [],
   "source": []
  }
 ],
 "metadata": {
  "kernelspec": {
   "display_name": "Python 3",
   "language": "python",
   "name": "python3"
  },
  "language_info": {
   "codemirror_mode": {
    "name": "ipython",
    "version": 3
   },
   "file_extension": ".py",
   "mimetype": "text/x-python",
   "name": "python",
   "nbconvert_exporter": "python",
   "pygments_lexer": "ipython3",
   "version": "3.6.5"
  }
 },
 "nbformat": 4,
 "nbformat_minor": 2
}
